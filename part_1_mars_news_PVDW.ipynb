{
 "cells": [
  {
   "attachments": {},
   "cell_type": "markdown",
   "metadata": {},
   "source": [
    "# Module 11 Challenge\n",
    "## Deliverable 1: Scrape Titles and Preview Text from Mars News"
   ]
  },
  {
   "cell_type": "code",
   "execution_count": 1,
   "metadata": {},
   "outputs": [],
   "source": [
    "# Import Splinter and BeautifulSoup\n",
    "from splinter import Browser\n",
    "from bs4 import BeautifulSoup"
   ]
  },
  {
   "cell_type": "code",
   "execution_count": 2,
   "metadata": {},
   "outputs": [
    {
     "data": {
      "text/plain": [
       "'c:\\\\Users\\\\baby4\\\\anaconda3\\\\envs\\\\dev\\\\lib\\\\site-packages\\\\chromedriver_autoinstaller\\\\127\\\\chromedriver.exe'"
      ]
     },
     "execution_count": 2,
     "metadata": {},
     "output_type": "execute_result"
    }
   ],
   "source": [
    "# Import dependencies in order to be able to set up splinter in my laptop; otherwise, it doesn't work \n",
    "from selenium import webdriver\n",
    "import chromedriver_autoinstaller\n",
    "chromedriver_autoinstaller.install() "
   ]
  },
  {
   "cell_type": "code",
   "execution_count": 3,
   "metadata": {
    "scrolled": true
   },
   "outputs": [],
   "source": [
    "#Set up Splinter\n",
    "browser = Browser('chrome')"
   ]
  },
  {
   "attachments": {},
   "cell_type": "markdown",
   "metadata": {},
   "source": [
    "### Step 1: Visit the Website\n",
    "\n",
    "1. Use automated browsing to visit the [Mars news site](https://static.bc-edx.com/data/web/mars_news/index.html). Inspect the page to identify which elements to scrape.\n",
    "\n",
    "      > **Hint** To identify which elements to scrape, you might want to inspect the page by using Chrome DevTools."
   ]
  },
  {
   "cell_type": "code",
   "execution_count": 4,
   "metadata": {},
   "outputs": [],
   "source": [
    "# Visit the Mars news site\n",
    "url = 'https://static.bc-edx.com/data/web/mars_news/index.html'\n",
    "browser.visit(url)"
   ]
  },
  {
   "attachments": {},
   "cell_type": "markdown",
   "metadata": {},
   "source": [
    "### Step 2: Scrape the Website\n",
    "\n",
    "Create a Beautiful Soup object and use it to extract text elements from the website."
   ]
  },
  {
   "cell_type": "code",
   "execution_count": 5,
   "metadata": {},
   "outputs": [],
   "source": [
    "# Parse the HTML\n",
    "html = browser.html\n",
    "\n",
    "# Create a Beautiful Soup object\n",
    "soup = BeautifulSoup(html, 'html.parser')"
   ]
  },
  {
   "cell_type": "code",
   "execution_count": 6,
   "metadata": {},
   "outputs": [
    {
     "data": {
      "text/plain": [
       "\"MARS Planet Science Exploration Program        The Red Planet   The Program   News & Events   Multimedia   Missions   More           News         Latest     All Categories                     November 9, 2022 NASA's MAVEN Observes Martian Light Show Caused by Major Solar Storm For the first time in its eight years orbiting Mars, NASA’s MAVEN mission witnessed two different types of ultraviolet aurorae simultaneously, the result of solar storms that began on Aug. 27.               November 1, 2022 NASA Prepares to Say 'Farewell' to InSight Spacecraft A closer look at what goes into wrapping up the mission as the spacecraft’s power supply continues to dwindle.               October 28, 2022 NASA and ESA Agree on Next Steps to Return Mars Samples to Earth The agency’s Perseverance rover will establish the first sample depot on Mars.               October 27, 2022 NASA's InSight Lander Detects Stunning Meteoroid Impact on Mars The agency’s lander felt the ground shake during the impact while cameras aboard the Mars Reconnaissance Orbiter spotted the yawning new crater from space.               October 21, 2022 NASA To Host Briefing on InSight, Mars Reconnaissance Orbiter Findings Scientists from two Mars missions will discuss how they combined images and data for a major finding on the Red Planet.               October 20, 2022 Why NASA Is Trying To Crash Land on Mars Like a car’s crumple zone, the experimental SHIELD lander is designed to absorb a hard impact.               October 19, 2022 Curiosity Mars Rover Reaches Long-Awaited Salty Region After years of climbing, the Mars rover has arrived at a special region believed to have formed as Mars’ climate was drying.               October 12, 2022 Mars Mission Shields Up for Tests Protecting Mars Sample Return spacecraft from micrometeorites requires high-caliber work.               October 7, 2022 NASA's InSight Waits Out Dust Storm InSight’s team is taking steps to help the solar-powered lander continue operating for as long as possible.               September 19, 2022 NASA's InSight 'Hears' Its First Meteoroid Impacts on Mars The Mars lander’s seismometer has picked up vibrations from four separate impacts in the past two years.               September 15, 2022 NASA's Perseverance Rover Investigates Geologically Rich Mars Terrain The latest findings provide greater detail on a region of the Red Planet that has a watery past and is yielding promising samples for the NASA-ESA Mars Sample Return campaign.               September 12, 2022 NASA to Host Briefing on Perseverance Mars Rover Mission Operations Members of the mission will discuss the rover’s activities as it gathers samples in an ancient river delta.               August 25, 2022 NASA's Perseverance Makes New Discoveries in Mars' Jezero Crater The rover found that Jezero Crater’s floor is made up of volcanic rocks that have interacted with water.               August 5, 2022 10 Years Since Landing, NASA's Curiosity Mars Rover Still Has Drive Despite signs of wear, the intrepid spacecraft is about to start an exciting new chapter of its mission as it climbs a Martian mountain.               August 4, 2022 SAM's Top 5 Discoveries Aboard NASA's Curiosity Rover at Mars “Selfie” of the Curiosity rover with inset showing the SAM instrument prior to installation on the rover.       More      You Might Also Like           NASA Marks 25 Years Since Pathfinder Touched Down on Mars        NASA's Perseverance Rover Captures Video of Solar Eclipse on Mars        NASA, UAE Mars Missions Agree to Share Science Data                 The Red Planet  Dashboard Science Goals The Planet    The Program  Mission Statement About the Program Organization Why Mars?    Multimedia  Images Videos More Resources    Missions  Past Present Future        Images and news content extracted from NASA's Mars News website on November 9, 2022.          Images used in accordance with the JPL Image Use Policy.  This site is operated by edX Boot Camps LLC for educational purposes only.               This is not a website endorsed by NASA. This website is intended only for internal academic purposes.\""
      ]
     },
     "execution_count": 6,
     "metadata": {},
     "output_type": "execute_result"
    }
   ],
   "source": [
    "# Extract all the text elements\n",
    "text_elements = soup.find('div', class_=\"col-md-12\").text.strip()\n",
    "# remove unnecesary output '\\n'\n",
    "text_elements = text_elements.replace('\\n', ' ')\n",
    "text_elements"
   ]
  },
  {
   "attachments": {},
   "cell_type": "markdown",
   "metadata": {},
   "source": [
    "### Step 3: Store the Results\n",
    "\n",
    "Extract the titles and preview text of the news articles that you scraped. Store the scraping results in Python data structures as follows:\n",
    "\n",
    "* Store each title-and-preview pair in a Python dictionary. And, give each dictionary two keys: `title` and `preview`. An example is the following:\n",
    "\n",
    "  ```python\n",
    "  {'title': \"NASA's MAVEN Observes Martian Light Show Caused by Major Solar Storm\", \n",
    "   'preview': \"For the first time in its eight years orbiting Mars, NASA’s MAVEN mission witnessed two different types of ultraviolet aurorae simultaneously, the result of solar storms that began on Aug. 27.\"\n",
    "  }\n",
    "  ```\n",
    "\n",
    "* Store all the dictionaries in a Python list.\n",
    "\n",
    "* Print the list in your notebook."
   ]
  },
  {
   "cell_type": "code",
   "execution_count": 7,
   "metadata": {},
   "outputs": [],
   "source": [
    "# function creation for web scraping\n",
    "def get_articles():\n",
    "# Collect HTML from the browser    \n",
    "    html = browser.html\n",
    "# Parse the HTML wih Beautiful Soup \n",
    "    soup = BeautifulSoup(html, 'html.parser')\n",
    "# Main area of the web page \n",
    "    text_elements = soup.find('div', id='news', class_='container')\n",
    "# Find all the articles in the main area of the web page\n",
    "    articles = text_elements.find_all('div', class_=\"col-md-12\") # or try \"col-md-12\"\n",
    "    # Create an empty list to store the dictionaries\n",
    "    news = []\n",
    "    # Loop through the text elements\n",
    "    for article in articles:\n",
    "# Extract the title and preview text from the elements    \n",
    "        title = article.find('div', class_='content_title').text.strip()\n",
    "        preview = article.find('div', class_='article_teaser_body').text.strip()\n",
    "# Store each title and preview pair in a dictionary    \n",
    "        news_dict = {\n",
    "        'title': title,\n",
    "        'preview': preview\n",
    "        }\n",
    "# Add the dictionary to the list    \n",
    "        news.append(news_dict)\n",
    "    return news"
   ]
  },
  {
   "cell_type": "code",
   "execution_count": 8,
   "metadata": {},
   "outputs": [
    {
     "data": {
      "text/plain": [
       "[{'title': \"NASA's MAVEN Observes Martian Light Show Caused by Major Solar Storm\",\n",
       "  'preview': 'For the first time in its eight years orbiting Mars, NASA’s MAVEN mission witnessed two different types of ultraviolet aurorae simultaneously, the result of solar storms that began on Aug. 27.'},\n",
       " {'title': \"NASA Prepares to Say 'Farewell' to InSight Spacecraft\",\n",
       "  'preview': 'A closer look at what goes into wrapping up the mission as the spacecraft’s power supply continues to dwindle.'},\n",
       " {'title': 'NASA and ESA Agree on Next Steps to Return Mars Samples to Earth',\n",
       "  'preview': 'The agency’s Perseverance rover will establish the first sample depot on Mars.'},\n",
       " {'title': \"NASA's InSight Lander Detects Stunning Meteoroid Impact on Mars\",\n",
       "  'preview': 'The agency’s lander felt the ground shake during the impact while cameras aboard the Mars Reconnaissance Orbiter spotted the yawning new crater from space.'},\n",
       " {'title': 'NASA To Host Briefing on InSight, Mars Reconnaissance Orbiter Findings',\n",
       "  'preview': 'Scientists from two Mars missions will discuss how they combined images and data for a major finding on the Red Planet.'},\n",
       " {'title': 'Why NASA Is Trying To Crash Land on Mars',\n",
       "  'preview': 'Like a car’s crumple zone, the experimental SHIELD lander is designed to absorb a hard impact.'},\n",
       " {'title': 'Curiosity Mars Rover Reaches Long-Awaited Salty Region',\n",
       "  'preview': 'After years of climbing, the Mars rover has arrived at a special region believed to have formed as Mars’ climate was drying.'},\n",
       " {'title': 'Mars Mission Shields Up for Tests',\n",
       "  'preview': 'Protecting Mars Sample Return spacecraft from micrometeorites requires high-caliber work.'},\n",
       " {'title': \"NASA's InSight Waits Out Dust Storm\",\n",
       "  'preview': 'InSight’s team is taking steps to help the solar-powered lander continue operating for as long as possible.'},\n",
       " {'title': \"NASA's InSight 'Hears' Its First Meteoroid Impacts on Mars\",\n",
       "  'preview': 'The Mars lander’s seismometer has picked up vibrations from four separate impacts in the past two years.'},\n",
       " {'title': \"NASA's Perseverance Rover Investigates Geologically Rich Mars Terrain\",\n",
       "  'preview': 'The latest findings provide greater detail on a region of the Red Planet that has a watery past and is yielding promising samples for the NASA-ESA Mars Sample Return campaign.'},\n",
       " {'title': 'NASA to Host Briefing on Perseverance Mars Rover Mission Operations',\n",
       "  'preview': 'Members of the mission will discuss the rover’s activities as it gathers samples in an ancient river delta.'},\n",
       " {'title': \"NASA's Perseverance Makes New Discoveries in Mars' Jezero Crater\",\n",
       "  'preview': 'The rover found that Jezero Crater’s floor is made up of volcanic rocks that have interacted with water.'},\n",
       " {'title': \"10 Years Since Landing, NASA's Curiosity Mars Rover Still Has Drive\",\n",
       "  'preview': 'Despite signs of wear, the intrepid spacecraft is about to start an exciting new chapter of its mission as it climbs a Martian mountain.'},\n",
       " {'title': \"SAM's Top 5 Discoveries Aboard NASA's Curiosity Rover at Mars\",\n",
       "  'preview': '“Selfie” of the Curiosity rover with inset showing the SAM instrument prior to installation on the rover.'}]"
      ]
     },
     "execution_count": 8,
     "metadata": {},
     "output_type": "execute_result"
    }
   ],
   "source": [
    "articles_list = []\n",
    "for _ in range(1):\n",
    "    summary = get_articles()\n",
    "    articles_list.extend(get_articles())\n",
    "# Print the list to confirm success\n",
    "articles_list"
   ]
  },
  {
   "cell_type": "code",
   "execution_count": 9,
   "metadata": {},
   "outputs": [],
   "source": [
    "browser.quit()"
   ]
  },
  {
   "cell_type": "code",
   "execution_count": null,
   "metadata": {},
   "outputs": [],
   "source": []
  }
 ],
 "metadata": {
  "kernelspec": {
   "display_name": "Python 3 (ipykernel)",
   "language": "python",
   "name": "python3"
  },
  "language_info": {
   "codemirror_mode": {
    "name": "ipython",
    "version": 3
   },
   "file_extension": ".py",
   "mimetype": "text/x-python",
   "name": "python",
   "nbconvert_exporter": "python",
   "pygments_lexer": "ipython3",
   "version": "3.10.14"
  },
  "vscode": {
   "interpreter": {
    "hash": "31f2aee4e71d21fbe5cf8b01ff0e069b9275f58929596ceb00d14d90e3e16cd6"
   }
  }
 },
 "nbformat": 4,
 "nbformat_minor": 4
}
